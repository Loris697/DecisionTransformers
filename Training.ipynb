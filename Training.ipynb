{
 "cells": [
  {
   "cell_type": "code",
   "execution_count": null,
   "id": "c4761f9f-4572-496a-9a70-9b9d10da06f3",
   "metadata": {},
   "outputs": [],
   "source": [
    "import numpy as np\n",
    "from stable_baselines3.common.vec_env import DummyVecEnv\n",
    "import gymnasium as gym\n",
    "import random\n",
    "\n",
    "import torch\n",
    "import torch.nn as nn\n",
    "from torch.utils.data import DataLoader\n",
    "\n",
    "from codebase.Dataloader.SequenceExtractor import SequenceExtractor, collate_fn\n",
    "from codebase.Models.DecisionTransformer import DecisionTransformers\n",
    "from codebase.Models.Resnet import CustomResNet\n",
    "from codebase.Models.PositionalEncoders import SinusoidalPositionalEncoding\n",
    "from codebase.Models.Transformers import TransformerArchitecture\n",
    "from codebase.ModelTester import ModelTester\n",
    "\n",
    "import pytorch_lightning as pl\n",
    "from pytorch_lightning.loggers import TensorBoardLogger\n",
    "from pytorch_lightning.callbacks import ModelCheckpoint"
   ]
  },
  {
   "cell_type": "code",
   "execution_count": null,
   "id": "d409760d-5867-4673-88dc-e99f4c9078f9",
   "metadata": {},
   "outputs": [],
   "source": [
    "def seed_worker(worker_id):\n",
    "    worker_seed = torch.initial_seed() % 2**32\n",
    "    np.random.seed(worker_seed)\n",
    "    random.seed(worker_seed)\n",
    "\n",
    "g = torch.Generator().manual_seed(0)"
   ]
  },
  {
   "cell_type": "code",
   "execution_count": null,
   "id": "ee3fa8ea-547b-48a0-ad5e-9445905ed6f1",
   "metadata": {},
   "outputs": [],
   "source": [
    "def checkAction(action):\n",
    "    #checking steering\n",
    "    if action[0] > 1:\n",
    "        #print(\"Invalid steering. \", action[0])\n",
    "        action[0] = 1\n",
    "    elif action[0] < -1:\n",
    "        #print(\"Invalid steering. \", action[0])\n",
    "        action[0] = 1\n",
    "    #checking gas\n",
    "    if action[1] > 1:\n",
    "        #print(\"Invalid gas. \", action[1])\n",
    "        action[1] = 1\n",
    "    elif action[1] < 0:\n",
    "        #print(\"Invalid gas. \", action[1])\n",
    "        action[1] = 0\n",
    "    #checking brake\n",
    "    if action[2] > 1:\n",
    "        #print(\"Invalid brake. \", action[2])\n",
    "        action[2] = 1\n",
    "    elif action[2] < 0:\n",
    "        #print(\"Invalid brake. \", action[2])\n",
    "        action[2] = 0\n",
    "    return action"
   ]
  },
  {
   "cell_type": "code",
   "execution_count": null,
   "id": "e6d983f1-434d-4817-b8a6-fa7f5061ff5a",
   "metadata": {},
   "outputs": [],
   "source": [
    "env_id = 'CarRacing-v2'\n",
    "render_mode = \"rgb_array\"\n",
    "\n",
    "env = DummyVecEnv([lambda: gym.make(env_id, render_mode=render_mode)])\n",
    "max_seq_len = 16"
   ]
  },
  {
   "cell_type": "code",
   "execution_count": null,
   "id": "1414e1d7-af78-43bd-80ec-c9abe6e0ce7e",
   "metadata": {},
   "outputs": [],
   "source": [
    "sequenceExtractorTrain = SequenceExtractor(env, dataset_len = 16, seq_len = max_seq_len)"
   ]
  },
  {
   "cell_type": "code",
   "execution_count": null,
   "id": "01428bac-6c5d-4a4c-b079-10fc903dc306",
   "metadata": {},
   "outputs": [],
   "source": [
    "# Creating a data loader\n",
    "batch_size = 32\n",
    "dataloader_train = DataLoader(sequenceExtractorTrain, \n",
    "                              batch_size=batch_size, \n",
    "                              shuffle=True, \n",
    "                              num_workers=7, \n",
    "                              collate_fn = collate_fn,\n",
    "                              worker_init_fn=seed_worker, \n",
    "                              generator=g\n",
    "                             )"
   ]
  },
  {
   "cell_type": "code",
   "execution_count": null,
   "id": "8927c885-5f06-4a95-92ce-f5045d9a994c",
   "metadata": {},
   "outputs": [],
   "source": [
    "logger = TensorBoardLogger(\"tb_logs\", name=\"DecisionTransformers\")\n",
    "checkpoint_callback = ModelCheckpoint(dirpath=\"checkpoints/\", \n",
    "                                      save_top_k=2, \n",
    "                                      monitor=\"train_loss\",\n",
    "                                      filename='{epoch}-{train_loss:.2f}'\n",
    "                                     )"
   ]
  },
  {
   "cell_type": "code",
   "execution_count": null,
   "id": "c65201ec-2185-44ba-bf02-e3fca6de09d3",
   "metadata": {},
   "outputs": [],
   "source": [
    "d_model = 128\n",
    "torch.manual_seed(42)\n",
    "action_space_dim = env.action_space.shape[0]\n",
    "observation_space = env.observation_space"
   ]
  },
  {
   "cell_type": "code",
   "execution_count": null,
   "id": "80e73cb5-60b5-4e51-a919-08ea26f3232f",
   "metadata": {},
   "outputs": [],
   "source": [
    "observation_space.shape,"
   ]
  },
  {
   "cell_type": "code",
   "execution_count": null,
   "id": "c6b1fe17-77e1-4752-a2b8-1d95268e9cf9",
   "metadata": {},
   "outputs": [],
   "source": [
    "embedding_reward = nn.Linear(1, d_model)\n",
    "embedding_action = nn.Linear(action_space_dim, d_model)\n",
    "embedding_observation = CustomResNet(observation_space.shape, features_dim = d_model)\n",
    "\n",
    "transformer = TransformerArchitecture(\n",
    "    positional_embedding=SinusoidalPositionalEncoding,\n",
    "    d_model = d_model, \n",
    "    max_step_len=max_seq_len*3, \n",
    "    batch_first = True\n",
    ")\n",
    "\n",
    "optimizer = torch.optim.Adam"
   ]
  },
  {
   "cell_type": "code",
   "execution_count": null,
   "id": "de62c08d-cf18-41de-848a-bbc08eea739e",
   "metadata": {},
   "outputs": [],
   "source": [
    "model_tester = ModelTester(\n",
    "                           env_name = 'CarRacing-v2',\n",
    "                           actionCheck = checkAction,\n",
    "                           render_mode = \"rgb_array\",\n",
    "                           seq_len = max_seq_len,\n",
    "                          )"
   ]
  },
  {
   "cell_type": "code",
   "execution_count": null,
   "id": "6af9eff7-2e67-4442-9c5f-13b6bac92f9f",
   "metadata": {},
   "outputs": [],
   "source": [
    "model = DecisionTransformers(\n",
    "    embedding_reward = embedding_reward,\n",
    "    embedding_action = embedding_action,\n",
    "    embedding_observation = embedding_observation,\n",
    "    transformer = transformer,\n",
    "    optimizer = optimizer,\n",
    "    action_space_dim = action_space_dim,\n",
    "    d_model = d_model,\n",
    "    modelTester = model_tester\n",
    ")  "
   ]
  },
  {
   "cell_type": "code",
   "execution_count": null,
   "id": "556061e1-ae04-41e8-aa07-1663e3a4b37c",
   "metadata": {},
   "outputs": [],
   "source": [
    "trainer = pl.Trainer(\n",
    "    max_epochs=300, \n",
    "    logger=logger, \n",
    "    #callbacks=[checkpoint_callback], \n",
    "    #accumulate_grad_batches=1024 // batch_size\n",
    ")\n",
    "trainer.fit(model, dataloader_train)"
   ]
  },
  {
   "cell_type": "code",
   "execution_count": null,
   "id": "11728501-ebd2-48e6-858f-bb9f6efcc453",
   "metadata": {},
   "outputs": [],
   "source": [
    "trainer.save_checkpoint(\"checkpoints/DecisionTransformers-Last.ckpt\")"
   ]
  },
  {
   "cell_type": "code",
   "execution_count": null,
   "id": "05452bdc-1d8e-48ec-a75d-62c06cf6c4b3",
   "metadata": {},
   "outputs": [],
   "source": [
    "checkpoint_callback.best_model_path"
   ]
  }
 ],
 "metadata": {
  "kernelspec": {
   "display_name": "Python 3 (ipykernel)",
   "language": "python",
   "name": "python3"
  },
  "language_info": {
   "codemirror_mode": {
    "name": "ipython",
    "version": 3
   },
   "file_extension": ".py",
   "mimetype": "text/x-python",
   "name": "python",
   "nbconvert_exporter": "python",
   "pygments_lexer": "ipython3",
   "version": "3.10.12"
  }
 },
 "nbformat": 4,
 "nbformat_minor": 5
}
