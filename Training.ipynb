{
 "cells": [
  {
   "cell_type": "code",
   "execution_count": 1,
   "id": "c4761f9f-4572-496a-9a70-9b9d10da06f3",
   "metadata": {},
   "outputs": [
    {
     "name": "stderr",
     "output_type": "stream",
     "text": [
      "2024-03-05 00:45:32.483346: I tensorflow/core/platform/cpu_feature_guard.cc:182] This TensorFlow binary is optimized to use available CPU instructions in performance-critical operations.\n",
      "To enable the following instructions: AVX2 FMA, in other operations, rebuild TensorFlow with the appropriate compiler flags.\n"
     ]
    }
   ],
   "source": [
    "import numpy as np\n",
    "from stable_baselines3.common.vec_env import DummyVecEnv\n",
    "import gymnasium as gym\n",
    "import random\n",
    "\n",
    "import torch\n",
    "import torch.nn as nn\n",
    "from torch.utils.data import DataLoader\n",
    "\n",
    "from Dataloader.SequenceExtractor import SequenceExtractor, collate_fn\n",
    "from Models.DecisionTransformer import DecisionTransformers\n",
    "\n",
    "import pytorch_lightning as pl\n",
    "from lightning.pytorch.loggers import TensorBoardLogger\n",
    "from lightning.pytorch.callbacks import ModelCheckpoint"
   ]
  },
  {
   "cell_type": "code",
   "execution_count": 2,
   "id": "d409760d-5867-4673-88dc-e99f4c9078f9",
   "metadata": {},
   "outputs": [],
   "source": [
    "def seed_worker(worker_id):\n",
    "    worker_seed = torch.initial_seed() % 2**32\n",
    "    np.random.seed(worker_seed)\n",
    "    random.seed(worker_seed)\n",
    "\n",
    "g = torch.Generator().manual_seed(0)"
   ]
  },
  {
   "cell_type": "code",
   "execution_count": 3,
   "id": "e6d983f1-434d-4817-b8a6-fa7f5061ff5a",
   "metadata": {},
   "outputs": [],
   "source": [
    "env_id = 'CarRacing-v2'\n",
    "render_mode = \"rgb_array\"\n",
    "\n",
    "env = DummyVecEnv([lambda: gym.make(env_id, render_mode=render_mode)])"
   ]
  },
  {
   "cell_type": "code",
   "execution_count": 4,
   "id": "1414e1d7-af78-43bd-80ec-c9abe6e0ce7e",
   "metadata": {},
   "outputs": [],
   "source": [
    "sequenceExtractorTrain = SequenceExtractor(env, dataset_len = 128)\n",
    "sequenceExtractorVal = SequenceExtractor(env, dataset_len = 128, starting_num = len(sequenceExtractorTrain))"
   ]
  },
  {
   "cell_type": "code",
   "execution_count": 5,
   "id": "01428bac-6c5d-4a4c-b079-10fc903dc306",
   "metadata": {},
   "outputs": [],
   "source": [
    "# Creating a data loader\n",
    "batch_size = 128\n",
    "dataloader_train = DataLoader(sequenceExtractorTrain, batch_size=batch_size, \n",
    "                        shuffle=True, num_workers=1, collate_fn = collate_fn,\n",
    "                        worker_init_fn=seed_worker, generator=g)\n",
    "dataloader_val = DataLoader(sequenceExtractorVal, batch_size=batch_size, \n",
    "                        shuffle=True, num_workers=1, collate_fn = collate_fn,\n",
    "                        worker_init_fn=seed_worker, generator=g)"
   ]
  },
  {
   "cell_type": "code",
   "execution_count": 6,
   "id": "8927c885-5f06-4a95-92ce-f5045d9a994c",
   "metadata": {},
   "outputs": [],
   "source": [
    "logger = TensorBoardLogger(\"tb_logs\", name=\"DecisionTransformers\")\n",
    "checkpoint_callback = ModelCheckpoint(dirpath=\"checkpoints/\", save_top_k=2, monitor=\"train_loss\",filename='{epoch}-{train_loss:.2f}')"
   ]
  },
  {
   "cell_type": "code",
   "execution_count": 7,
   "id": "556061e1-ae04-41e8-aa07-1663e3a4b37c",
   "metadata": {},
   "outputs": [
    {
     "name": "stderr",
     "output_type": "stream",
     "text": [
      "GPU available: True (cuda), used: True\n",
      "TPU available: False, using: 0 TPU cores\n",
      "IPU available: False, using: 0 IPUs\n",
      "HPU available: False, using: 0 HPUs\n"
     ]
    },
    {
     "name": "stdout",
     "output_type": "stream",
     "text": [
      "Number of learnable parameters for the CNN: 2728064\n",
      "Number of learnable parameters for the entire architecture: 4082051\n"
     ]
    },
    {
     "name": "stderr",
     "output_type": "stream",
     "text": [
      "/data/cino/.local/lib/python3.10/site-packages/pytorch_lightning/trainer/configuration_validator.py:74: You defined a `validation_step` but have no `val_dataloader`. Skipping val loop.\n",
      "LOCAL_RANK: 0 - CUDA_VISIBLE_DEVICES: [0]\n",
      "\n",
      "  | Name                  | Type                    | Params\n",
      "------------------------------------------------------------------\n",
      "0 | embedding_reward      | Linear                  | 256   \n",
      "1 | embedding_action      | Linear                  | 512   \n",
      "2 | embedding_observation | CustomResNet            | 2.7 M \n",
      "3 | transformer           | TransformerArchitecture | 1.3 M \n",
      "4 | fc1                   | Sequential              | 33.0 K\n",
      "5 | output                | Linear                  | 771   \n",
      "6 | huber_loss            | SmoothL1Loss            | 0     \n",
      "------------------------------------------------------------------\n",
      "4.1 M     Trainable params\n",
      "0         Non-trainable params\n",
      "4.1 M     Total params\n",
      "16.328    Total estimated model params size (MB)\n",
      "/data/cino/.local/lib/python3.10/site-packages/pytorch_lightning/trainer/connectors/data_connector.py:441: The 'train_dataloader' does not have many workers which may be a bottleneck. Consider increasing the value of the `num_workers` argument` to `num_workers=7` in the `DataLoader` to improve performance.\n",
      "/data/cino/.local/lib/python3.10/site-packages/pytorch_lightning/loops/fit_loop.py:298: The number of training batches (1) is smaller than the logging interval Trainer(log_every_n_steps=50). Set a lower value for log_every_n_steps if you want to see logs for the training epoch.\n"
     ]
    },
    {
     "data": {
      "application/vnd.jupyter.widget-view+json": {
       "model_id": "cd26306232d64a579a73d84943579e32",
       "version_major": 2,
       "version_minor": 0
      },
      "text/plain": [
       "Training: |                                               | 0/? [00:00<?, ?it/s]"
      ]
     },
     "metadata": {},
     "output_type": "display_data"
    },
    {
     "name": "stderr",
     "output_type": "stream",
     "text": [
      "`Trainer.fit` stopped: `max_epochs=100` reached.\n"
     ]
    }
   ],
   "source": [
    "torch.manual_seed(42)\n",
    "model = DecisionTransformers(d_model = 128, action_space_dim = env.action_space.shape[0], \n",
    "                             observation_space = env.observation_space, max_seq_len = sequenceExtractor.seq_len)  # Example vocab size\n",
    "trainer = pl.Trainer(max_epochs=100, logger=logger)#, callbacks=[checkpoint_callback])  # Example trainer configuration\n",
    "trainer.fit(model, dataloader_train, dataloader_val)"
   ]
  },
  {
   "cell_type": "code",
   "execution_count": 9,
   "id": "11728501-ebd2-48e6-858f-bb9f6efcc453",
   "metadata": {},
   "outputs": [],
   "source": [
    "trainer.save_checkpoint(\"checkpoints/DecisionTransformers-Overfitting.ckpt\")"
   ]
  },
  {
   "cell_type": "code",
   "execution_count": 8,
   "id": "05452bdc-1d8e-48ec-a75d-62c06cf6c4b3",
   "metadata": {},
   "outputs": [
    {
     "data": {
      "text/plain": [
       "''"
      ]
     },
     "execution_count": 8,
     "metadata": {},
     "output_type": "execute_result"
    }
   ],
   "source": [
    "checkpoint_callback.best_model_path"
   ]
  }
 ],
 "metadata": {
  "kernelspec": {
   "display_name": "Python 3 (ipykernel)",
   "language": "python",
   "name": "python3"
  },
  "language_info": {
   "codemirror_mode": {
    "name": "ipython",
    "version": 3
   },
   "file_extension": ".py",
   "mimetype": "text/x-python",
   "name": "python",
   "nbconvert_exporter": "python",
   "pygments_lexer": "ipython3",
   "version": "3.10.12"
  }
 },
 "nbformat": 4,
 "nbformat_minor": 5
}
