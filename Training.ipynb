{
 "cells": [
  {
   "cell_type": "code",
   "execution_count": 2,
   "id": "c4761f9f-4572-496a-9a70-9b9d10da06f3",
   "metadata": {},
   "outputs": [],
   "source": [
    "import numpy as np\n",
    "from stable_baselines3.common.vec_env import DummyVecEnv\n",
    "import gymnasium as gym\n",
    "import random\n",
    "\n",
    "import torch\n",
    "import torch.nn as nn\n",
    "from torch.utils.data import DataLoader\n",
    "\n",
    "from Dataloader.SequenceExtractor import SequenceExtractor, collate_fn\n",
    "from Models.DecisionTransformer import DecisionTransformers\n",
    "\n",
    "import pytorch_lightning as pl\n",
    "from pytorch_lightning.loggers import TensorBoardLogger\n",
    "from pytorch_lightning.callbacks import ModelCheckpoint"
   ]
  },
  {
   "cell_type": "code",
   "execution_count": 3,
   "id": "d409760d-5867-4673-88dc-e99f4c9078f9",
   "metadata": {},
   "outputs": [],
   "source": [
    "def seed_worker(worker_id):\n",
    "    worker_seed = torch.initial_seed() % 2**32\n",
    "    np.random.seed(worker_seed)\n",
    "    random.seed(worker_seed)\n",
    "\n",
    "g = torch.Generator().manual_seed(0)"
   ]
  },
  {
   "cell_type": "code",
   "execution_count": 4,
   "id": "e6d983f1-434d-4817-b8a6-fa7f5061ff5a",
   "metadata": {},
   "outputs": [],
   "source": [
    "env_id = 'CarRacing-v2'\n",
    "render_mode = \"rgb_array\"\n",
    "\n",
    "env = DummyVecEnv([lambda: gym.make(env_id, render_mode=render_mode)])"
   ]
  },
  {
   "cell_type": "code",
   "execution_count": 5,
   "id": "1414e1d7-af78-43bd-80ec-c9abe6e0ce7e",
   "metadata": {},
   "outputs": [],
   "source": [
    "sequenceExtractorTrain = SequenceExtractor(env, dataset_len = 32768)\n",
    "sequenceExtractorVal = SequenceExtractor(env, dataset_len = 2048, starting_num = len(sequenceExtractorTrain))"
   ]
  },
  {
   "cell_type": "code",
   "execution_count": 6,
   "id": "01428bac-6c5d-4a4c-b079-10fc903dc306",
   "metadata": {},
   "outputs": [],
   "source": [
    "# Creating a data loader\n",
    "batch_size = 64\n",
    "dataloader_train = DataLoader(sequenceExtractorTrain, batch_size=batch_size, \n",
    "                        shuffle=True, num_workers=7, collate_fn = collate_fn,\n",
    "                        worker_init_fn=seed_worker, generator=g)\n",
    "dataloader_val = DataLoader(sequenceExtractorVal, batch_size=batch_size, \n",
    "                        shuffle=False, num_workers=7, collate_fn = collate_fn,\n",
    "                        worker_init_fn=seed_worker, generator=g)"
   ]
  },
  {
   "cell_type": "code",
   "execution_count": 7,
   "id": "8927c885-5f06-4a95-92ce-f5045d9a994c",
   "metadata": {},
   "outputs": [],
   "source": [
    "logger = TensorBoardLogger(\"tb_logs\", name=\"DecisionTransformers\")\n",
    "checkpoint_callback = ModelCheckpoint(dirpath=\"checkpoints/\", save_top_k=2, monitor=\"train_loss\",filename='{epoch}-{train_loss:.2f}-{val_loss:.2f}')"
   ]
  },
  {
   "cell_type": "code",
   "execution_count": null,
   "id": "556061e1-ae04-41e8-aa07-1663e3a4b37c",
   "metadata": {},
   "outputs": [
    {
     "name": "stdout",
     "output_type": "stream",
     "text": [
      "Number of learnable parameters for the CNN: 4710656\n",
      "Number of learnable parameters for the entire architecture: 11163395\n"
     ]
    }
   ],
   "source": [
    "torch.manual_seed(42)\n",
    "model = DecisionTransformers(d_model = 256, action_space_dim = env.action_space.shape[0], \n",
    "                             observation_space = env.observation_space, max_seq_len = sequenceExtractorTrain.seq_len)  # Example vocab size\n",
    "trainer = pl.Trainer(max_epochs=200, logger=logger, callbacks=[checkpoint_callback])\n",
    "trainer.fit(model, dataloader_train, dataloader_val)"
   ]
  },
  {
   "cell_type": "code",
   "execution_count": null,
   "id": "11728501-ebd2-48e6-858f-bb9f6efcc453",
   "metadata": {},
   "outputs": [],
   "source": [
    "trainer.save_checkpoint(\"checkpoints/DecisionTransformers-Overfitting.ckpt\")"
   ]
  },
  {
   "cell_type": "code",
   "execution_count": null,
   "id": "05452bdc-1d8e-48ec-a75d-62c06cf6c4b3",
   "metadata": {},
   "outputs": [],
   "source": [
    "checkpoint_callback.best_model_path"
   ]
  },
  {
   "cell_type": "code",
   "execution_count": null,
   "id": "062c22c1-7cc5-4060-b8a7-34e539cf4bbf",
   "metadata": {},
   "outputs": [],
   "source": []
  }
 ],
 "metadata": {
  "kernelspec": {
   "display_name": "Python 3 (ipykernel)",
   "language": "python",
   "name": "python3"
  },
  "language_info": {
   "codemirror_mode": {
    "name": "ipython",
    "version": 3
   },
   "file_extension": ".py",
   "mimetype": "text/x-python",
   "name": "python",
   "nbconvert_exporter": "python",
   "pygments_lexer": "ipython3",
   "version": "3.10.12"
  }
 },
 "nbformat": 4,
 "nbformat_minor": 5
}
