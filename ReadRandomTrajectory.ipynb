{
 "cells": [
  {
   "cell_type": "code",
   "execution_count": 38,
   "id": "f24f390c-a473-474a-a552-aa469c7e3496",
   "metadata": {},
   "outputs": [],
   "source": [
    "import os\n",
    "import random\n",
    "import pandas as pd\n",
    "import gymnasium as gym\n",
    "from stable_baselines3.common.vec_env import DummyVecEnv\n",
    "import numpy as np\n",
    "import matplotlib.pyplot as plt"
   ]
  },
  {
   "cell_type": "code",
   "execution_count": 9,
   "id": "b3dfc3b0-b315-4777-a5bb-f97c5aea2655",
   "metadata": {},
   "outputs": [],
   "source": [
    "env_id = 'CarRacing-v2'\n",
    "render_mode = \"rgb_array\"\n",
    "\n",
    "env = DummyVecEnv([lambda: gym.make(env_id, render_mode=render_mode)])"
   ]
  },
  {
   "cell_type": "code",
   "execution_count": 11,
   "id": "37d6933e-679e-4c67-8aaa-6d0ec878ec59",
   "metadata": {},
   "outputs": [
    {
     "data": {
      "text/plain": [
       "(96, 96, 3)"
      ]
     },
     "execution_count": 11,
     "metadata": {},
     "output_type": "execute_result"
    }
   ],
   "source": [
    "env.observation_space.shape"
   ]
  },
  {
   "cell_type": "code",
   "execution_count": 4,
   "id": "97745fc1-96b0-484b-8a75-0c25c1af9d90",
   "metadata": {},
   "outputs": [
    {
     "data": {
      "text/plain": [
       "'CarRacing-v2/model_11/seed_945351111358374057.parquet'"
      ]
     },
     "execution_count": 4,
     "metadata": {},
     "output_type": "execute_result"
    }
   ],
   "source": [
    "# List all subfolders in the folder\n",
    "models_subfolder = [f.path for f in os.scandir(env_id) if f.is_dir()]\n",
    "\n",
    "# Choose a random subfolder\n",
    "random_model_subfolder = random.choice(models_subfolder)\n",
    "\n",
    "files = [f.path for f in os.scandir(random_model_subfolder) if f.is_file()]\n",
    "\n",
    "random_file = random.choice(files)\n",
    "random_file"
   ]
  },
  {
   "cell_type": "code",
   "execution_count": 37,
   "id": "021a8682-3db3-439f-be1b-267496e61c6a",
   "metadata": {},
   "outputs": [
    {
     "data": {
      "text/html": [
       "<div>\n",
       "<style scoped>\n",
       "    .dataframe tbody tr th:only-of-type {\n",
       "        vertical-align: middle;\n",
       "    }\n",
       "\n",
       "    .dataframe tbody tr th {\n",
       "        vertical-align: top;\n",
       "    }\n",
       "\n",
       "    .dataframe thead th {\n",
       "        text-align: right;\n",
       "    }\n",
       "</style>\n",
       "<table border=\"1\" class=\"dataframe\">\n",
       "  <thead>\n",
       "    <tr style=\"text-align: right;\">\n",
       "      <th></th>\n",
       "      <th>observation</th>\n",
       "      <th>rewards</th>\n",
       "      <th>action</th>\n",
       "    </tr>\n",
       "  </thead>\n",
       "  <tbody>\n",
       "    <tr>\n",
       "      <th>0</th>\n",
       "      <td>[[[0, 0, 0], [0, 0, 0], [0, 0, 0], [0, 0, 0], ...</td>\n",
       "      <td>847.019775</td>\n",
       "      <td>[-0.091807306, 1.0, 0.15434468]</td>\n",
       "    </tr>\n",
       "    <tr>\n",
       "      <th>1</th>\n",
       "      <td>[[[0, 0, 0], [0, 0, 0], [0, 0, 0], [0, 0, 0], ...</td>\n",
       "      <td>840.497253</td>\n",
       "      <td>[-1.0, 0.0, 0.0]</td>\n",
       "    </tr>\n",
       "    <tr>\n",
       "      <th>2</th>\n",
       "      <td>[[[0, 0, 0], [0, 0, 0], [0, 0, 0], [0, 0, 0], ...</td>\n",
       "      <td>840.597290</td>\n",
       "      <td>[0.14005792, 0.0, 0.0]</td>\n",
       "    </tr>\n",
       "    <tr>\n",
       "      <th>3</th>\n",
       "      <td>[[[100, 202, 100], [100, 202, 100], [100, 202,...</td>\n",
       "      <td>840.697266</td>\n",
       "      <td>[-1.0, 0.8609494, 0.0]</td>\n",
       "    </tr>\n",
       "    <tr>\n",
       "      <th>4</th>\n",
       "      <td>[[[100, 202, 100], [100, 202, 100], [100, 212,...</td>\n",
       "      <td>840.797241</td>\n",
       "      <td>[-0.76116765, 1.0, 0.0]</td>\n",
       "    </tr>\n",
       "    <tr>\n",
       "      <th>...</th>\n",
       "      <td>...</td>\n",
       "      <td>...</td>\n",
       "      <td>...</td>\n",
       "    </tr>\n",
       "    <tr>\n",
       "      <th>995</th>\n",
       "      <td>[[[100, 202, 100], [100, 202, 100], [100, 202,...</td>\n",
       "      <td>-0.500000</td>\n",
       "      <td>[0.31994113, 0.858278, 0.0]</td>\n",
       "    </tr>\n",
       "    <tr>\n",
       "      <th>996</th>\n",
       "      <td>[[[100, 202, 100], [100, 202, 100], [100, 202,...</td>\n",
       "      <td>-0.400000</td>\n",
       "      <td>[-0.85577756, 0.0, 0.0]</td>\n",
       "    </tr>\n",
       "    <tr>\n",
       "      <th>997</th>\n",
       "      <td>[[[100, 202, 100], [100, 202, 100], [100, 202,...</td>\n",
       "      <td>-0.300000</td>\n",
       "      <td>[0.5071352, 1.0, 0.0]</td>\n",
       "    </tr>\n",
       "    <tr>\n",
       "      <th>998</th>\n",
       "      <td>[[[100, 202, 100], [100, 202, 100], [100, 202,...</td>\n",
       "      <td>-0.200000</td>\n",
       "      <td>[-0.6658039, 1.0, 0.001861453]</td>\n",
       "    </tr>\n",
       "    <tr>\n",
       "      <th>999</th>\n",
       "      <td>[[[100, 202, 100], [100, 202, 100], [100, 202,...</td>\n",
       "      <td>-0.100000</td>\n",
       "      <td>[0.45467594, 1.0, 0.0]</td>\n",
       "    </tr>\n",
       "  </tbody>\n",
       "</table>\n",
       "<p>1000 rows × 3 columns</p>\n",
       "</div>"
      ],
      "text/plain": [
       "                                           observation     rewards  \\\n",
       "0    [[[0, 0, 0], [0, 0, 0], [0, 0, 0], [0, 0, 0], ...  847.019775   \n",
       "1    [[[0, 0, 0], [0, 0, 0], [0, 0, 0], [0, 0, 0], ...  840.497253   \n",
       "2    [[[0, 0, 0], [0, 0, 0], [0, 0, 0], [0, 0, 0], ...  840.597290   \n",
       "3    [[[100, 202, 100], [100, 202, 100], [100, 202,...  840.697266   \n",
       "4    [[[100, 202, 100], [100, 202, 100], [100, 212,...  840.797241   \n",
       "..                                                 ...         ...   \n",
       "995  [[[100, 202, 100], [100, 202, 100], [100, 202,...   -0.500000   \n",
       "996  [[[100, 202, 100], [100, 202, 100], [100, 202,...   -0.400000   \n",
       "997  [[[100, 202, 100], [100, 202, 100], [100, 202,...   -0.300000   \n",
       "998  [[[100, 202, 100], [100, 202, 100], [100, 202,...   -0.200000   \n",
       "999  [[[100, 202, 100], [100, 202, 100], [100, 202,...   -0.100000   \n",
       "\n",
       "                              action  \n",
       "0    [-0.091807306, 1.0, 0.15434468]  \n",
       "1                   [-1.0, 0.0, 0.0]  \n",
       "2             [0.14005792, 0.0, 0.0]  \n",
       "3             [-1.0, 0.8609494, 0.0]  \n",
       "4            [-0.76116765, 1.0, 0.0]  \n",
       "..                               ...  \n",
       "995      [0.31994113, 0.858278, 0.0]  \n",
       "996          [-0.85577756, 0.0, 0.0]  \n",
       "997            [0.5071352, 1.0, 0.0]  \n",
       "998   [-0.6658039, 1.0, 0.001861453]  \n",
       "999           [0.45467594, 1.0, 0.0]  \n",
       "\n",
       "[1000 rows x 3 columns]"
      ]
     },
     "execution_count": 37,
     "metadata": {},
     "output_type": "execute_result"
    }
   ],
   "source": [
    "# Read the Parquet file into a DataFrame\n",
    "df = pd.read_parquet(random_file)\n",
    "df['observation'] = df.apply(lambda row : row[\"observation\"].reshape(env.observation_space.shape), axis = 1)\n",
    "df"
   ]
  },
  {
   "cell_type": "code",
   "execution_count": 53,
   "id": "2dd5573b-154a-4e00-88a7-cce011d579ec",
   "metadata": {},
   "outputs": [
    {
     "data": {
      "image/png": "[encoded data removed]",
      "text/plain": [
       "<Figure size 640x480 with 1 Axes>"
      ]
     },
     "metadata": {},
     "output_type": "display_data"
    },
    {
     "data": {
      "text/plain": [
       "(-8.900002, array([0.6915356, 0.       , 0.       ], dtype=float32))"
      ]
     },
     "execution_count": 53,
     "metadata": {},
     "output_type": "execute_result"
    }
   ],
   "source": [
    "random_row = random.randint(0, len(df))\n",
    "plt.imshow(df[\"observation\"][random_row])\n",
    "plt.axis('off')  # Turn off axis labels\n",
    "plt.show()\n",
    "df[\"rewards\"][random_row], df[\"action\"][random_row]"
   ]
  },
  {
   "cell_type": "code",
   "execution_count": null,
   "id": "2be19a9f-378e-452f-906e-5a3356b35b88",
   "metadata": {},
   "outputs": [],
   "source": []
  }
 ],
 "metadata": {
  "kernelspec": {
   "display_name": "Python 3 (ipykernel)",
   "language": "python",
   "name": "python3"
  },
  "language_info": {
   "codemirror_mode": {
    "name": "ipython",
    "version": 3
   },
   "file_extension": ".py",
   "mimetype": "text/x-python",
   "name": "python",
   "nbconvert_exporter": "python",
   "pygments_lexer": "ipython3",
   "version": "3.10.12"
  }
 },
 "nbformat": 4,
 "nbformat_minor": 5
}
