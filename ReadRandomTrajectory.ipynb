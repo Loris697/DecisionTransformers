{
 "cells": [
  {
   "cell_type": "code",
   "execution_count": 1,
   "id": "f24f390c-a473-474a-a552-aa469c7e3496",
   "metadata": {},
   "outputs": [
    {
     "name": "stderr",
     "output_type": "stream",
     "text": [
      "2024-04-26 23:58:03.326955: I tensorflow/core/platform/cpu_feature_guard.cc:182] This TensorFlow binary is optimized to use available CPU instructions in performance-critical operations.\n",
      "To enable the following instructions: AVX2 FMA, in other operations, rebuild TensorFlow with the appropriate compiler flags.\n"
     ]
    }
   ],
   "source": [
    "import os\n",
    "import random\n",
    "import pandas as pd\n",
    "import gymnasium as gym\n",
    "from stable_baselines3.common.vec_env import DummyVecEnv\n",
    "import numpy as np\n",
    "import matplotlib.pyplot as plt\n",
    "\n",
    "import torch\n",
    "from torch.utils.data import DataLoader\n",
    "from Dataloader.SequenceExtractor import SequenceExtractor, collate_fn"
   ]
  },
  {
   "cell_type": "code",
   "execution_count": 2,
   "id": "b3dfc3b0-b315-4777-a5bb-f97c5aea2655",
   "metadata": {},
   "outputs": [],
   "source": [
    "env_id = 'CarRacing-v2'\n",
    "render_mode = \"rgb_array\"\n",
    "\n",
    "env = DummyVecEnv([lambda: gym.make(env_id, render_mode=render_mode)])"
   ]
  },
  {
   "cell_type": "code",
   "execution_count": 3,
   "id": "37d6933e-679e-4c67-8aaa-6d0ec878ec59",
   "metadata": {},
   "outputs": [],
   "source": [
    "def seed_worker(worker_id):\n",
    "    worker_seed = torch.initial_seed() % 2**32\n",
    "    np.random.seed(worker_seed)\n",
    "    random.seed(worker_seed)\n",
    "\n",
    "g = torch.Generator().manual_seed(0)"
   ]
  },
  {
   "cell_type": "code",
   "execution_count": 4,
   "id": "97745fc1-96b0-484b-8a75-0c25c1af9d90",
   "metadata": {},
   "outputs": [
    {
     "data": {
      "text/plain": [
       "'CarRacing-v2/model_11/seed_6839596180442651345.parquet'"
      ]
     },
     "execution_count": 4,
     "metadata": {},
     "output_type": "execute_result"
    }
   ],
   "source": [
    "# List all subfolders in the folder\n",
    "models_subfolder = [f.path for f in os.scandir(env_id) if f.is_dir()]\n",
    "\n",
    "# Choose a random subfolder\n",
    "random_model_subfolder = random.choice(models_subfolder)\n",
    "\n",
    "files = [f.path for f in os.scandir(random_model_subfolder) if f.is_file()]\n",
    "\n",
    "random_file = random.choice(files)\n",
    "random_file"
   ]
  },
  {
   "cell_type": "code",
   "execution_count": 5,
   "id": "021a8682-3db3-439f-be1b-267496e61c6a",
   "metadata": {},
   "outputs": [
    {
     "data": {
      "text/html": [
       "<div>\n",
       "<style scoped>\n",
       "    .dataframe tbody tr th:only-of-type {\n",
       "        vertical-align: middle;\n",
       "    }\n",
       "\n",
       "    .dataframe tbody tr th {\n",
       "        vertical-align: top;\n",
       "    }\n",
       "\n",
       "    .dataframe thead th {\n",
       "        text-align: right;\n",
       "    }\n",
       "</style>\n",
       "<table border=\"1\" class=\"dataframe\">\n",
       "  <thead>\n",
       "    <tr style=\"text-align: right;\">\n",
       "      <th></th>\n",
       "      <th>observation</th>\n",
       "      <th>rewards</th>\n",
       "      <th>action</th>\n",
       "    </tr>\n",
       "  </thead>\n",
       "  <tbody>\n",
       "    <tr>\n",
       "      <th>0</th>\n",
       "      <td>[[[0, 0, 0], [0, 0, 0], [0, 0, 0], [0, 0, 0], ...</td>\n",
       "      <td>794.366150</td>\n",
       "      <td>[0.15016586, 0.21998379, 0.0]</td>\n",
       "    </tr>\n",
       "    <tr>\n",
       "      <th>1</th>\n",
       "      <td>[[[0, 0, 0], [0, 0, 0], [0, 0, 0], [0, 0, 0], ...</td>\n",
       "      <td>787.423950</td>\n",
       "      <td>[-0.9121764, 1.0, 0.0]</td>\n",
       "    </tr>\n",
       "    <tr>\n",
       "      <th>2</th>\n",
       "      <td>[[[0, 0, 0], [0, 0, 0], [0, 0, 0], [0, 0, 0], ...</td>\n",
       "      <td>787.523926</td>\n",
       "      <td>[-0.72859955, 1.0, 0.0]</td>\n",
       "    </tr>\n",
       "    <tr>\n",
       "      <th>3</th>\n",
       "      <td>[[[100, 202, 100], [100, 202, 100], [100, 202,...</td>\n",
       "      <td>787.623901</td>\n",
       "      <td>[-0.53236175, 0.0, 0.0]</td>\n",
       "    </tr>\n",
       "    <tr>\n",
       "      <th>4</th>\n",
       "      <td>[[[100, 224, 100], [100, 202, 100], [100, 202,...</td>\n",
       "      <td>787.723877</td>\n",
       "      <td>[-0.53121686, 0.6943532, 0.0]</td>\n",
       "    </tr>\n",
       "    <tr>\n",
       "      <th>...</th>\n",
       "      <td>...</td>\n",
       "      <td>...</td>\n",
       "      <td>...</td>\n",
       "    </tr>\n",
       "    <tr>\n",
       "      <th>995</th>\n",
       "      <td>[[[100, 202, 100], [100, 202, 100], [100, 202,...</td>\n",
       "      <td>-0.500000</td>\n",
       "      <td>[0.73074234, 0.0, 0.0]</td>\n",
       "    </tr>\n",
       "    <tr>\n",
       "      <th>996</th>\n",
       "      <td>[[[100, 202, 100], [100, 202, 100], [100, 202,...</td>\n",
       "      <td>-0.400000</td>\n",
       "      <td>[-0.89041084, 0.6645784, 0.0]</td>\n",
       "    </tr>\n",
       "    <tr>\n",
       "      <th>997</th>\n",
       "      <td>[[[100, 202, 100], [100, 202, 100], [100, 202,...</td>\n",
       "      <td>-0.300000</td>\n",
       "      <td>[-1.0, 0.0, 0.0]</td>\n",
       "    </tr>\n",
       "    <tr>\n",
       "      <th>998</th>\n",
       "      <td>[[[100, 202, 100], [100, 202, 100], [100, 202,...</td>\n",
       "      <td>-0.200000</td>\n",
       "      <td>[0.008062333, 0.5789722, 0.0]</td>\n",
       "    </tr>\n",
       "    <tr>\n",
       "      <th>999</th>\n",
       "      <td>[[[100, 202, 100], [100, 202, 100], [100, 202,...</td>\n",
       "      <td>-0.100000</td>\n",
       "      <td>[-0.8420789, 0.0, 0.0]</td>\n",
       "    </tr>\n",
       "  </tbody>\n",
       "</table>\n",
       "<p>1000 rows × 3 columns</p>\n",
       "</div>"
      ],
      "text/plain": [
       "                                           observation     rewards  \\\n",
       "0    [[[0, 0, 0], [0, 0, 0], [0, 0, 0], [0, 0, 0], ...  794.366150   \n",
       "1    [[[0, 0, 0], [0, 0, 0], [0, 0, 0], [0, 0, 0], ...  787.423950   \n",
       "2    [[[0, 0, 0], [0, 0, 0], [0, 0, 0], [0, 0, 0], ...  787.523926   \n",
       "3    [[[100, 202, 100], [100, 202, 100], [100, 202,...  787.623901   \n",
       "4    [[[100, 224, 100], [100, 202, 100], [100, 202,...  787.723877   \n",
       "..                                                 ...         ...   \n",
       "995  [[[100, 202, 100], [100, 202, 100], [100, 202,...   -0.500000   \n",
       "996  [[[100, 202, 100], [100, 202, 100], [100, 202,...   -0.400000   \n",
       "997  [[[100, 202, 100], [100, 202, 100], [100, 202,...   -0.300000   \n",
       "998  [[[100, 202, 100], [100, 202, 100], [100, 202,...   -0.200000   \n",
       "999  [[[100, 202, 100], [100, 202, 100], [100, 202,...   -0.100000   \n",
       "\n",
       "                            action  \n",
       "0    [0.15016586, 0.21998379, 0.0]  \n",
       "1           [-0.9121764, 1.0, 0.0]  \n",
       "2          [-0.72859955, 1.0, 0.0]  \n",
       "3          [-0.53236175, 0.0, 0.0]  \n",
       "4    [-0.53121686, 0.6943532, 0.0]  \n",
       "..                             ...  \n",
       "995         [0.73074234, 0.0, 0.0]  \n",
       "996  [-0.89041084, 0.6645784, 0.0]  \n",
       "997               [-1.0, 0.0, 0.0]  \n",
       "998  [0.008062333, 0.5789722, 0.0]  \n",
       "999         [-0.8420789, 0.0, 0.0]  \n",
       "\n",
       "[1000 rows x 3 columns]"
      ]
     },
     "execution_count": 5,
     "metadata": {},
     "output_type": "execute_result"
    }
   ],
   "source": [
    "# Read the Parquet file into a DataFrame\n",
    "df = pd.read_parquet(random_file)\n",
    "df['observation'] = df.apply(lambda row : row[\"observation\"].reshape(env.observation_space.shape), axis = 1)\n",
    "df"
   ]
  },
  {
   "cell_type": "code",
   "execution_count": 6,
   "id": "2dd5573b-154a-4e00-88a7-cce011d579ec",
   "metadata": {},
   "outputs": [
    {
     "data": {
      "image/png": "[encoded data removed]",
      "text/plain": [
       "<Figure size 640x480 with 1 Axes>"
      ]
     },
     "metadata": {},
     "output_type": "display_data"
    },
    {
     "data": {
      "text/plain": [
       "(232.94226, array([-1.        ,  0.24569435,  0.        ], dtype=float32))"
      ]
     },
     "execution_count": 6,
     "metadata": {},
     "output_type": "execute_result"
    }
   ],
   "source": [
    "random_row = random.randint(0, len(df))\n",
    "plt.imshow(df[\"observation\"][random_row])\n",
    "plt.axis('off')  # Turn off axis labels\n",
    "plt.show()\n",
    "df[\"rewards\"][random_row], df[\"action\"][random_row]"
   ]
  },
  {
   "cell_type": "code",
   "execution_count": 7,
   "id": "2be19a9f-378e-452f-906e-5a3356b35b88",
   "metadata": {},
   "outputs": [],
   "source": [
    "sequenceExtractorTrain = SequenceExtractor(env, dataset_len = 128)"
   ]
  },
  {
   "cell_type": "code",
   "execution_count": 8,
   "id": "86a5b496-1088-44a5-8f73-3775c5fe87c8",
   "metadata": {},
   "outputs": [],
   "source": [
    "batch_size = 128\n",
    "dataloader_train = DataLoader(sequenceExtractorTrain, batch_size=batch_size, \n",
    "                        shuffle=True, num_workers=1, collate_fn = collate_fn,\n",
    "                        worker_init_fn=seed_worker, generator=g)"
   ]
  },
  {
   "cell_type": "code",
   "execution_count": 9,
   "id": "3bec36b1-bca5-496d-90ee-2dd7fd7617f4",
   "metadata": {},
   "outputs": [
    {
     "name": "stdout",
     "output_type": "stream",
     "text": [
      "torch.Size([128, 32, 1]) torch.Size([128, 32, 3, 96, 96]) torch.Size([128, 32, 3])\n"
     ]
    },
    {
     "data": {
      "image/png": "[encoded data removed]",
      "text/plain": [
       "<Figure size 640x480 with 1 Axes>"
      ]
     },
     "metadata": {},
     "output_type": "display_data"
    },
    {
     "data": {
      "image/png": "[encoded data removed]",
      "text/plain": [
       "<Figure size 640x480 with 1 Axes>"
      ]
     },
     "metadata": {},
     "output_type": "display_data"
    },
    {
     "data": {
      "image/png": "[encoded data removed]",
      "text/plain": [
       "<Figure size 640x480 with 1 Axes>"
      ]
     },
     "metadata": {},
     "output_type": "display_data"
    },
    {
     "name": "stdout",
     "output_type": "stream",
     "text": [
      "tensor([0.6883]) tensor(0.9922) tensor([0.6378, 0.3072, 0.0000])\n"
     ]
    }
   ],
   "source": [
    "for batch in dataloader_train:\n",
    "    X, y = batch\n",
    "    \n",
    "    rewards = X[\"rewards\"]\n",
    "    observations = X[\"observations\"]\n",
    "    actions = X[\"actions\"]\n",
    "    \n",
    "    print(rewards.shape, observations.shape, actions.shape )\n",
    "\n",
    "    plt.imshow(observations[0][0].permute(1, 2, 0))\n",
    "    plt.axis('off')  # Turn off axis labels\n",
    "    plt.show()\n",
    "\n",
    "    plt.imshow(observations[0][3].permute(1, 2, 0))\n",
    "    plt.axis('off')  # Turn off axis labels\n",
    "    plt.show()\n",
    "\n",
    "    plt.imshow(observations[0][6].permute(1, 2, 0))\n",
    "    plt.axis('off')  # Turn off axis labels\n",
    "    plt.show()\n",
    "\n",
    "    print(rewards[0][0],observations.max(), actions[0][0])"
   ]
  }
 ],
 "metadata": {
  "kernelspec": {
   "display_name": "Python 3 (ipykernel)",
   "language": "python",
   "name": "python3"
  },
  "language_info": {
   "codemirror_mode": {
    "name": "ipython",
    "version": 3
   },
   "file_extension": ".py",
   "mimetype": "text/x-python",
   "name": "python",
   "nbconvert_exporter": "python",
   "pygments_lexer": "ipython3",
   "version": "3.10.12"
  }
 },
 "nbformat": 4,
 "nbformat_minor": 5
}
