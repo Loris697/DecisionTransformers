{
 "cells": [
  {
   "cell_type": "code",
   "execution_count": null,
   "id": "ee721db8-8e73-4159-b33a-45a42771bb4e",
   "metadata": {},
   "outputs": [],
   "source": [
    "import numpy as np\n",
    "from stable_baselines3.common.vec_env import DummyVecEnv\n",
    "from stable_baselines3.common.vec_env import DummyVecEnv, SubprocVecEnv, VecVideoRecorder\n",
    "import gymnasium as gym\n",
    "import random\n",
    "\n",
    "import torch\n",
    "import torch.nn as nn\n",
    "import torch.nn.functional as F\n",
    "\n",
    "from Models.DecisionTransformer import DecisionTransformers\n",
    "\n",
    "import pytorch_lightning as pl"
   ]
  },
  {
   "cell_type": "code",
   "execution_count": null,
   "id": "91467aba-8cb6-411c-8de6-9217d068bd0a",
   "metadata": {},
   "outputs": [],
   "source": [
    "env_id = 'CarRacing-v2'\n",
    "render_mode = \"human\"\n",
    "\n",
    "env = DummyVecEnv([lambda: gym.make(env_id, render_mode=render_mode)])"
   ]
  },
  {
   "cell_type": "code",
   "execution_count": null,
   "id": "528b3de0-e90e-4bab-9612-a0d2c5e1d688",
   "metadata": {},
   "outputs": [],
   "source": [
    "model = DecisionTransformers.load_from_checkpoint(\"checkpoints/DecisionTransformers-Overfitting.ckpt\")\n",
    "\n",
    "# disable randomness, dropout, etc...\n",
    "model.eval()"
   ]
  },
  {
   "cell_type": "code",
   "execution_count": null,
   "id": "4f3729f2-ae04-41be-95ab-92cc746dd933",
   "metadata": {},
   "outputs": [],
   "source": [
    "from matplotlib import pyplot as plt"
   ]
  },
  {
   "cell_type": "code",
   "execution_count": null,
   "id": "961d6673-a571-4f3b-a4d1-d09d5b493434",
   "metadata": {},
   "outputs": [],
   "source": [
    "def padInput(rewards, observations, actions, seq_len=32):\n",
    "    # Ensure inputs are tensors\n",
    "    rewards = torch.tensor(rewards, dtype=torch.float32).view(-1, 1).unsqueeze(0)\n",
    "    observations = torch.tensor(observations, dtype=torch.float32).permute(0, 3, 1, 2).unsqueeze(0)\n",
    "    actions = torch.tensor(actions, dtype=torch.float32).view(-1, 3).unsqueeze(0)\n",
    "\n",
    "    #print(rewards.shape)\n",
    "    #print(observations)\n",
    "    #print(actions.shape)\n",
    "    \n",
    "    # Pad rewards to shape (batch, seq_len, 1)\n",
    "    if len(rewards) < seq_len:\n",
    "        pad_size = seq_len - len(rewards)\n",
    "        rewards = F.pad(rewards, (0,0,0, pad_size, 0, 0))\n",
    "    \n",
    "    # Pad observations to shape (batch, seq_len, 3, 96, 96)\n",
    "    if len(observations) < seq_len:\n",
    "        pad_size = seq_len - len(observations)\n",
    "        observations = F.pad(observations, (0, 0, 0, 0, 0, 0, 0, pad_size, 0, 0))\n",
    "    \n",
    "    # Pad actions to shape (batch, seq_len, 3)\n",
    "    if len(actions) < seq_len:\n",
    "        pad_size = seq_len - len(actions)\n",
    "        actions = F.pad(actions, (0, 0, 0, pad_size, 0, 0))\n",
    "\n",
    "    #print(rewards.shape)\n",
    "    #plt.imshow(observations[0][0].permute(1, 2, 0) / 255., interpolation='nearest')\n",
    "    #plt.show()\n",
    "    #print(actions.shape)\n",
    "    \n",
    "    return {\n",
    "        'rewards': rewards,\n",
    "        'observations': observations,\n",
    "        'actions': actions\n",
    "    }"
   ]
  },
  {
   "cell_type": "code",
   "execution_count": null,
   "id": "a570b3cb-bfbf-4a2c-aa27-7614249dc630",
   "metadata": {},
   "outputs": [],
   "source": [
    "def checkAction(action):\n",
    "    #checking steering\n",
    "    if action[0] > 1:\n",
    "        action[0] = 1\n",
    "    elif action[0] < -1:\n",
    "        action[0] = 1\n",
    "    #checking gas\n",
    "    if action[1] > 1:\n",
    "        action[1] = 1\n",
    "    elif action[1] < 0:\n",
    "        action[1] = 0\n",
    "    #checking brake\n",
    "    if action[2] > 1:\n",
    "        action[2] = 1\n",
    "    elif action[2] < 0:\n",
    "        action[2] = 0\n",
    "    return action"
   ]
  },
  {
   "cell_type": "code",
   "execution_count": null,
   "id": "3107a0ac-02e0-4a60-a45e-3510aaab655f",
   "metadata": {
    "scrolled": true
   },
   "outputs": [],
   "source": [
    "# Reset the environment to get the initial observation\n",
    "observation = env.reset()\n",
    "done = False  # Flag to indicate the episode is finished\n",
    "rewards = [ 800 ]\n",
    "# Sample a random action\n",
    "actions = [ env.action_space.sample() ]\n",
    "observations = observation\n",
    "step = 0\n",
    "\n",
    "while not done:\n",
    "    # Render the environment to visualize the state (optional)\n",
    "    env.render()\n",
    "    \n",
    "    # Your model provides an action based on the current observation\n",
    "    # Replace this with your model's method of generating an action\n",
    "    model_input = padInput(rewards, observations, actions)\n",
    "    \n",
    "    action = model(model_input)  \n",
    "\n",
    "    #next_action = env.action_space.sample()\n",
    "    next_action = checkAction(np.array(action[0][step].detach()))\n",
    "    #print(next_action)\n",
    "    \n",
    "    # Execute the action in the environment\n",
    "    observation, reward, done, info = env.step([next_action])\n",
    "    env.render()\n",
    "\n",
    "    actions.append(next_action)\n",
    "    observations = np.concatenate((observations,observation))\n",
    "    #print(rewards)\n",
    "    rewards.append(rewards[-1] - reward[0])\n",
    "    step+=1\n",
    "\n",
    "    # Check if the first dimension is greater than 32\n",
    "    if len(rewards) > 32:\n",
    "        # Drop the first element\n",
    "        rewards = rewards[1:]\n",
    "        observations = observations[1:,:,:,:]\n",
    "        actions = actions[1:]\n",
    "        step = 31\n",
    "    \n",
    "    \n",
    "\n",
    "# Close the environment\n",
    "env.close()"
   ]
  },
  {
   "cell_type": "code",
   "execution_count": null,
   "id": "f909b17e-61ae-4eff-a6a9-3e6f6dbc1974",
   "metadata": {},
   "outputs": [],
   "source": [
    "print(observations.shape)\n",
    "\n",
    "for observation in observations:\n",
    "    plt.imshow(observation / 255., interpolation='nearest')\n",
    "    plt.show()"
   ]
  },
  {
   "cell_type": "code",
   "execution_count": null,
   "id": "5518af57-5f21-4192-9117-3a93d5eab819",
   "metadata": {},
   "outputs": [],
   "source": []
  }
 ],
 "metadata": {
  "kernelspec": {
   "display_name": "Python 3 (ipykernel)",
   "language": "python",
   "name": "python3"
  },
  "language_info": {
   "codemirror_mode": {
    "name": "ipython",
    "version": 3
   },
   "file_extension": ".py",
   "mimetype": "text/x-python",
   "name": "python",
   "nbconvert_exporter": "python",
   "pygments_lexer": "ipython3",
   "version": "3.10.12"
  }
 },
 "nbformat": 4,
 "nbformat_minor": 5
}
